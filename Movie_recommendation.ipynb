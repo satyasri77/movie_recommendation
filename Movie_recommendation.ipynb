{
  "nbformat": 4,
  "nbformat_minor": 0,
  "metadata": {
    "colab": {
      "provenance": []
    },
    "kernelspec": {
      "name": "python3",
      "display_name": "Python 3"
    },
    "language_info": {
      "name": "python"
    }
  },
  "cells": [
    {
      "cell_type": "code",
      "execution_count": 14,
      "metadata": {
        "id": "UWdOcZNs_Vpr"
      },
      "outputs": [],
      "source": [
        "import pandas as pd\n",
        "from sklearn.feature_extraction.text import CountVectorizer,TfidfVectorizer\n",
        "from sklearn.metrics.pairwise import cosine_similarity\n",
        "import seaborn as sns\n",
        "import nltk\n",
        "from nltk.corpus import stopwords\n",
        "from string import punctuation\n",
        "from nltk.tokenize import word_tokenize\n",
        "import spacy\n",
        "nlp = spacy.load(\"en_core_web_sm\")\n",
        "stopwords = spacy.lang.en.stop_words.STOP_WORDS"
      ]
    },
    {
      "cell_type": "code",
      "source": [
        "stop_words = nltk.download(\"stopwords\")"
      ],
      "metadata": {
        "colab": {
          "base_uri": "https://localhost:8080/"
        },
        "id": "K8M_S6xcAOxL",
        "outputId": "caea6d0c-a2dc-4762-c065-df9c89b61eef"
      },
      "execution_count": 12,
      "outputs": [
        {
          "output_type": "stream",
          "name": "stderr",
          "text": [
            "[nltk_data] Downloading package stopwords to /root/nltk_data...\n",
            "[nltk_data]   Package stopwords is already up-to-date!\n"
          ]
        }
      ]
    },
    {
      "cell_type": "code",
      "source": [
        "df = pd.read_csv(r'/content/IMDB_Top250Engmovies2_OMDB_Detailed.csv')"
      ],
      "metadata": {
        "id": "KNZq6ill_X_F"
      },
      "execution_count": 24,
      "outputs": []
    },
    {
      "cell_type": "code",
      "source": [
        "cols = ['tomatoMeter', 'tomatoImage',\n",
        "       'tomatoRating', 'tomatoReviews', 'tomatoFresh', 'tomatoRotten',\n",
        "       'tomatoConsensus', 'tomatoUserMeter', 'tomatoUserRating',\n",
        "       'tomatoUserReviews','Unnamed: 0','Type','Response','imdbID','tomatoURL','Metascore',\n",
        "       'Ratings.Source','Poster',\n",
        "        'Released','Website','DVD','Runtime','Ratings.Value']\n",
        "df.drop(cols,axis=1,inplace=True)"
      ],
      "metadata": {
        "id": "IvN7_Lpr_tBJ"
      },
      "execution_count": 25,
      "outputs": []
    },
    {
      "cell_type": "code",
      "source": [
        "df.head()"
      ],
      "metadata": {
        "colab": {
          "base_uri": "https://localhost:8080/",
          "height": 795
        },
        "id": "rnPC5B3ZIehy",
        "outputId": "50b50773-e8e9-451c-d63c-37a319b4845e"
      },
      "execution_count": 26,
      "outputs": [
        {
          "output_type": "execute_result",
          "data": {
            "text/plain": [
              "                      Title  Year     Rated                 Genre  \\\n",
              "0  The Shawshank Redemption  1994         R          Crime, Drama   \n",
              "1             The Godfather  1972         R          Crime, Drama   \n",
              "2    The Godfather: Part II  1974         R          Crime, Drama   \n",
              "3           The Dark Knight  2008     PG-13  Action, Crime, Drama   \n",
              "4              12 Angry Men  1957  APPROVED          Crime, Drama   \n",
              "\n",
              "               Director                                             Writer  \\\n",
              "0        Frank Darabont  Stephen King (short story \"Rita Hayworth and S...   \n",
              "1  Francis Ford Coppola  Mario Puzo (screenplay), Francis Ford Coppola ...   \n",
              "2  Francis Ford Coppola  Francis Ford Coppola (screenplay), Mario Puzo ...   \n",
              "3     Christopher Nolan  Jonathan Nolan (screenplay), Christopher Nolan...   \n",
              "4          Sidney Lumet  Reginald Rose (story), Reginald Rose (screenplay)   \n",
              "\n",
              "                                              Actors  \\\n",
              "0  Tim Robbins, Morgan Freeman, Bob Gunton, Willi...   \n",
              "1  Marlon Brando, Al Pacino, James Caan, Richard ...   \n",
              "2  Al Pacino, Robert Duvall, Diane Keaton, Robert...   \n",
              "3  Christian Bale, Heath Ledger, Aaron Eckhart, M...   \n",
              "4  Martin Balsam, John Fiedler, Lee J. Cobb, E.G....   \n",
              "\n",
              "                                                Plot  \\\n",
              "0  Two imprisoned men bond over a number of years...   \n",
              "1  The aging patriarch of an organized crime dyna...   \n",
              "2  The early life and career of Vito Corleone in ...   \n",
              "3  When the menace known as the Joker emerges fro...   \n",
              "4  A jury holdout attempts to prevent a miscarria...   \n",
              "\n",
              "                                     Language  Country  \\\n",
              "0                                     English      USA   \n",
              "1                     English, Italian, Latin      USA   \n",
              "2  English, Italian, Spanish, Latin, Sicilian      USA   \n",
              "3                           English, Mandarin  USA, UK   \n",
              "4                                     English      USA   \n",
              "\n",
              "                                              Awards  imdbRating  imdbVotes  \\\n",
              "0  Nominated for 7 Oscars. Another 19 wins & 30 n...         9.3  1,825,626   \n",
              "1    Won 3 Oscars. Another 23 wins & 27 nominations.         9.2  1,243,444   \n",
              "2    Won 6 Oscars. Another 10 wins & 20 nominations.         9.0    856,870   \n",
              "3  Won 2 Oscars. Another 151 wins & 153 nominations.         9.0  1,802,351   \n",
              "4  Nominated for 3 Oscars. Another 16 wins & 8 no...         8.9    494,215   \n",
              "\n",
              "      BoxOffice                       Production  \n",
              "0           NaN                Columbia Pictures  \n",
              "1           NaN               Paramount Pictures  \n",
              "2           NaN               Paramount Pictures  \n",
              "3  $533,316,061  Warner Bros. Pictures/Legendary  \n",
              "4           NaN             Criterion Collection  "
            ],
            "text/html": [
              "\n",
              "  <div id=\"df-d2ba6295-2718-4459-a1a3-29c980d21798\">\n",
              "    <div class=\"colab-df-container\">\n",
              "      <div>\n",
              "<style scoped>\n",
              "    .dataframe tbody tr th:only-of-type {\n",
              "        vertical-align: middle;\n",
              "    }\n",
              "\n",
              "    .dataframe tbody tr th {\n",
              "        vertical-align: top;\n",
              "    }\n",
              "\n",
              "    .dataframe thead th {\n",
              "        text-align: right;\n",
              "    }\n",
              "</style>\n",
              "<table border=\"1\" class=\"dataframe\">\n",
              "  <thead>\n",
              "    <tr style=\"text-align: right;\">\n",
              "      <th></th>\n",
              "      <th>Title</th>\n",
              "      <th>Year</th>\n",
              "      <th>Rated</th>\n",
              "      <th>Genre</th>\n",
              "      <th>Director</th>\n",
              "      <th>Writer</th>\n",
              "      <th>Actors</th>\n",
              "      <th>Plot</th>\n",
              "      <th>Language</th>\n",
              "      <th>Country</th>\n",
              "      <th>Awards</th>\n",
              "      <th>imdbRating</th>\n",
              "      <th>imdbVotes</th>\n",
              "      <th>BoxOffice</th>\n",
              "      <th>Production</th>\n",
              "    </tr>\n",
              "  </thead>\n",
              "  <tbody>\n",
              "    <tr>\n",
              "      <th>0</th>\n",
              "      <td>The Shawshank Redemption</td>\n",
              "      <td>1994</td>\n",
              "      <td>R</td>\n",
              "      <td>Crime, Drama</td>\n",
              "      <td>Frank Darabont</td>\n",
              "      <td>Stephen King (short story \"Rita Hayworth and S...</td>\n",
              "      <td>Tim Robbins, Morgan Freeman, Bob Gunton, Willi...</td>\n",
              "      <td>Two imprisoned men bond over a number of years...</td>\n",
              "      <td>English</td>\n",
              "      <td>USA</td>\n",
              "      <td>Nominated for 7 Oscars. Another 19 wins &amp; 30 n...</td>\n",
              "      <td>9.3</td>\n",
              "      <td>1,825,626</td>\n",
              "      <td>NaN</td>\n",
              "      <td>Columbia Pictures</td>\n",
              "    </tr>\n",
              "    <tr>\n",
              "      <th>1</th>\n",
              "      <td>The Godfather</td>\n",
              "      <td>1972</td>\n",
              "      <td>R</td>\n",
              "      <td>Crime, Drama</td>\n",
              "      <td>Francis Ford Coppola</td>\n",
              "      <td>Mario Puzo (screenplay), Francis Ford Coppola ...</td>\n",
              "      <td>Marlon Brando, Al Pacino, James Caan, Richard ...</td>\n",
              "      <td>The aging patriarch of an organized crime dyna...</td>\n",
              "      <td>English, Italian, Latin</td>\n",
              "      <td>USA</td>\n",
              "      <td>Won 3 Oscars. Another 23 wins &amp; 27 nominations.</td>\n",
              "      <td>9.2</td>\n",
              "      <td>1,243,444</td>\n",
              "      <td>NaN</td>\n",
              "      <td>Paramount Pictures</td>\n",
              "    </tr>\n",
              "    <tr>\n",
              "      <th>2</th>\n",
              "      <td>The Godfather: Part II</td>\n",
              "      <td>1974</td>\n",
              "      <td>R</td>\n",
              "      <td>Crime, Drama</td>\n",
              "      <td>Francis Ford Coppola</td>\n",
              "      <td>Francis Ford Coppola (screenplay), Mario Puzo ...</td>\n",
              "      <td>Al Pacino, Robert Duvall, Diane Keaton, Robert...</td>\n",
              "      <td>The early life and career of Vito Corleone in ...</td>\n",
              "      <td>English, Italian, Spanish, Latin, Sicilian</td>\n",
              "      <td>USA</td>\n",
              "      <td>Won 6 Oscars. Another 10 wins &amp; 20 nominations.</td>\n",
              "      <td>9.0</td>\n",
              "      <td>856,870</td>\n",
              "      <td>NaN</td>\n",
              "      <td>Paramount Pictures</td>\n",
              "    </tr>\n",
              "    <tr>\n",
              "      <th>3</th>\n",
              "      <td>The Dark Knight</td>\n",
              "      <td>2008</td>\n",
              "      <td>PG-13</td>\n",
              "      <td>Action, Crime, Drama</td>\n",
              "      <td>Christopher Nolan</td>\n",
              "      <td>Jonathan Nolan (screenplay), Christopher Nolan...</td>\n",
              "      <td>Christian Bale, Heath Ledger, Aaron Eckhart, M...</td>\n",
              "      <td>When the menace known as the Joker emerges fro...</td>\n",
              "      <td>English, Mandarin</td>\n",
              "      <td>USA, UK</td>\n",
              "      <td>Won 2 Oscars. Another 151 wins &amp; 153 nominations.</td>\n",
              "      <td>9.0</td>\n",
              "      <td>1,802,351</td>\n",
              "      <td>$533,316,061</td>\n",
              "      <td>Warner Bros. Pictures/Legendary</td>\n",
              "    </tr>\n",
              "    <tr>\n",
              "      <th>4</th>\n",
              "      <td>12 Angry Men</td>\n",
              "      <td>1957</td>\n",
              "      <td>APPROVED</td>\n",
              "      <td>Crime, Drama</td>\n",
              "      <td>Sidney Lumet</td>\n",
              "      <td>Reginald Rose (story), Reginald Rose (screenplay)</td>\n",
              "      <td>Martin Balsam, John Fiedler, Lee J. Cobb, E.G....</td>\n",
              "      <td>A jury holdout attempts to prevent a miscarria...</td>\n",
              "      <td>English</td>\n",
              "      <td>USA</td>\n",
              "      <td>Nominated for 3 Oscars. Another 16 wins &amp; 8 no...</td>\n",
              "      <td>8.9</td>\n",
              "      <td>494,215</td>\n",
              "      <td>NaN</td>\n",
              "      <td>Criterion Collection</td>\n",
              "    </tr>\n",
              "  </tbody>\n",
              "</table>\n",
              "</div>\n",
              "      <button class=\"colab-df-convert\" onclick=\"convertToInteractive('df-d2ba6295-2718-4459-a1a3-29c980d21798')\"\n",
              "              title=\"Convert this dataframe to an interactive table.\"\n",
              "              style=\"display:none;\">\n",
              "        \n",
              "  <svg xmlns=\"http://www.w3.org/2000/svg\" height=\"24px\"viewBox=\"0 0 24 24\"\n",
              "       width=\"24px\">\n",
              "    <path d=\"M0 0h24v24H0V0z\" fill=\"none\"/>\n",
              "    <path d=\"M18.56 5.44l.94 2.06.94-2.06 2.06-.94-2.06-.94-.94-2.06-.94 2.06-2.06.94zm-11 1L8.5 8.5l.94-2.06 2.06-.94-2.06-.94L8.5 2.5l-.94 2.06-2.06.94zm10 10l.94 2.06.94-2.06 2.06-.94-2.06-.94-.94-2.06-.94 2.06-2.06.94z\"/><path d=\"M17.41 7.96l-1.37-1.37c-.4-.4-.92-.59-1.43-.59-.52 0-1.04.2-1.43.59L10.3 9.45l-7.72 7.72c-.78.78-.78 2.05 0 2.83L4 21.41c.39.39.9.59 1.41.59.51 0 1.02-.2 1.41-.59l7.78-7.78 2.81-2.81c.8-.78.8-2.07 0-2.86zM5.41 20L4 18.59l7.72-7.72 1.47 1.35L5.41 20z\"/>\n",
              "  </svg>\n",
              "      </button>\n",
              "      \n",
              "  <style>\n",
              "    .colab-df-container {\n",
              "      display:flex;\n",
              "      flex-wrap:wrap;\n",
              "      gap: 12px;\n",
              "    }\n",
              "\n",
              "    .colab-df-convert {\n",
              "      background-color: #E8F0FE;\n",
              "      border: none;\n",
              "      border-radius: 50%;\n",
              "      cursor: pointer;\n",
              "      display: none;\n",
              "      fill: #1967D2;\n",
              "      height: 32px;\n",
              "      padding: 0 0 0 0;\n",
              "      width: 32px;\n",
              "    }\n",
              "\n",
              "    .colab-df-convert:hover {\n",
              "      background-color: #E2EBFA;\n",
              "      box-shadow: 0px 1px 2px rgba(60, 64, 67, 0.3), 0px 1px 3px 1px rgba(60, 64, 67, 0.15);\n",
              "      fill: #174EA6;\n",
              "    }\n",
              "\n",
              "    [theme=dark] .colab-df-convert {\n",
              "      background-color: #3B4455;\n",
              "      fill: #D2E3FC;\n",
              "    }\n",
              "\n",
              "    [theme=dark] .colab-df-convert:hover {\n",
              "      background-color: #434B5C;\n",
              "      box-shadow: 0px 1px 3px 1px rgba(0, 0, 0, 0.15);\n",
              "      filter: drop-shadow(0px 1px 2px rgba(0, 0, 0, 0.3));\n",
              "      fill: #FFFFFF;\n",
              "    }\n",
              "  </style>\n",
              "\n",
              "      <script>\n",
              "        const buttonEl =\n",
              "          document.querySelector('#df-d2ba6295-2718-4459-a1a3-29c980d21798 button.colab-df-convert');\n",
              "        buttonEl.style.display =\n",
              "          google.colab.kernel.accessAllowed ? 'block' : 'none';\n",
              "\n",
              "        async function convertToInteractive(key) {\n",
              "          const element = document.querySelector('#df-d2ba6295-2718-4459-a1a3-29c980d21798');\n",
              "          const dataTable =\n",
              "            await google.colab.kernel.invokeFunction('convertToInteractive',\n",
              "                                                     [key], {});\n",
              "          if (!dataTable) return;\n",
              "\n",
              "          const docLinkHtml = 'Like what you see? Visit the ' +\n",
              "            '<a target=\"_blank\" href=https://colab.research.google.com/notebooks/data_table.ipynb>data table notebook</a>'\n",
              "            + ' to learn more about interactive tables.';\n",
              "          element.innerHTML = '';\n",
              "          dataTable['output_type'] = 'display_data';\n",
              "          await google.colab.output.renderOutput(dataTable, element);\n",
              "          const docLink = document.createElement('div');\n",
              "          docLink.innerHTML = docLinkHtml;\n",
              "          element.appendChild(docLink);\n",
              "        }\n",
              "      </script>\n",
              "    </div>\n",
              "  </div>\n",
              "  "
            ]
          },
          "metadata": {},
          "execution_count": 26
        }
      ]
    },
    {
      "cell_type": "code",
      "source": [
        "df[\"Writer\"] = df[\"Writer\"].str.replace(\"(\",\"\")\n",
        "df[\"Writer\"] = df[\"Writer\"].str.replace(\")\",\"\")"
      ],
      "metadata": {
        "colab": {
          "base_uri": "https://localhost:8080/"
        },
        "id": "ggH24ONtK85F",
        "outputId": "aeb925bd-b8e0-4a7b-93a4-dd5b9562cd46"
      },
      "execution_count": 27,
      "outputs": [
        {
          "output_type": "stream",
          "name": "stderr",
          "text": [
            "/usr/local/lib/python3.7/dist-packages/ipykernel_launcher.py:1: FutureWarning: The default value of regex will change from True to False in a future version. In addition, single character regular expressions will *not* be treated as literal strings when regex=True.\n",
            "  \"\"\"Entry point for launching an IPython kernel.\n",
            "/usr/local/lib/python3.7/dist-packages/ipykernel_launcher.py:2: FutureWarning: The default value of regex will change from True to False in a future version. In addition, single character regular expressions will *not* be treated as literal strings when regex=True.\n",
            "  \n"
          ]
        }
      ]
    },
    {
      "cell_type": "code",
      "source": [
        "df.isnull().sum()"
      ],
      "metadata": {
        "colab": {
          "base_uri": "https://localhost:8080/"
        },
        "id": "9NZ1AAJEIgzP",
        "outputId": "28939ce9-c813-4db9-8ed4-1a7abde04f95"
      },
      "execution_count": 28,
      "outputs": [
        {
          "output_type": "execute_result",
          "data": {
            "text/plain": [
              "Title           0\n",
              "Year            0\n",
              "Rated           0\n",
              "Genre           0\n",
              "Director        0\n",
              "Writer          1\n",
              "Actors          0\n",
              "Plot            0\n",
              "Language        0\n",
              "Country         0\n",
              "Awards          5\n",
              "imdbRating      0\n",
              "imdbVotes       0\n",
              "BoxOffice     175\n",
              "Production      0\n",
              "dtype: int64"
            ]
          },
          "metadata": {},
          "execution_count": 28
        }
      ]
    },
    {
      "cell_type": "code",
      "source": [
        "sns.countplot(df.Rated, order=df.Rated.value_counts().iloc[:5].index)"
      ],
      "metadata": {
        "colab": {
          "base_uri": "https://localhost:8080/",
          "height": 350
        },
        "id": "bmrMPhmoIjfA",
        "outputId": "90a6ea68-e87c-436b-8d75-ce72a4e7b95f"
      },
      "execution_count": 29,
      "outputs": [
        {
          "output_type": "stream",
          "name": "stderr",
          "text": [
            "/usr/local/lib/python3.7/dist-packages/seaborn/_decorators.py:43: FutureWarning: Pass the following variable as a keyword arg: x. From version 0.12, the only valid positional argument will be `data`, and passing other arguments without an explicit keyword will result in an error or misinterpretation.\n",
            "  FutureWarning\n"
          ]
        },
        {
          "output_type": "execute_result",
          "data": {
            "text/plain": [
              "<matplotlib.axes._subplots.AxesSubplot at 0x7f5726963c90>"
            ]
          },
          "metadata": {},
          "execution_count": 29
        },
        {
          "output_type": "display_data",
          "data": {
            "text/plain": [
              "<Figure size 432x288 with 1 Axes>"
            ],
            "image/png": "[encoded data removed]"
          },
          "metadata": {
            "needs_background": "light"
          }
        }
      ]
    },
    {
      "cell_type": "code",
      "source": [
        "import matplotlib.pyplot as plt\n",
        "plt.figure(figsize=(25,25))\n",
        "sns.countplot(data = df, x = \"imdbRating\" )"
      ],
      "metadata": {
        "colab": {
          "base_uri": "https://localhost:8080/",
          "height": 852
        },
        "id": "BdPGspGPIl_1",
        "outputId": "11c5ff8a-243b-4db9-adab-66b35445c59d"
      },
      "execution_count": 30,
      "outputs": [
        {
          "output_type": "execute_result",
          "data": {
            "text/plain": [
              "<matplotlib.axes._subplots.AxesSubplot at 0x7f57f3f550d0>"
            ]
          },
          "metadata": {},
          "execution_count": 30
        },
        {
          "output_type": "display_data",
          "data": {
            "text/plain": [
              "<Figure size 1800x1800 with 1 Axes>"
            ],
            "image/png": "[encoded data removed]"
          },
          "metadata": {
            "needs_background": "light"
          }
        }
      ]
    },
    {
      "cell_type": "code",
      "source": [
        "#print(nlp.Defaults.stop_words)\n",
        "def preprocessing(tweet):\n",
        "#     x=' '.join(filter(lambda x:x[0] not in ('@'), tweet.split()))\n",
        "#     x=re.sub(r\"http\\S+\", \" \", x)\n",
        "#     x=re.sub('[^a-zA-Z]+',' ',x)\n",
        "    x=tweet.lower()\n",
        "    x=x.split()\n",
        "    x=[i for i in x if i not in punctuation]\n",
        "    x=[i for i in x if i not in stopwords]  \n",
        "    x=nlp(' '.join(x))\n",
        "    x=[words.lemma_ for words in x]\n",
        "    x=' '.join(x)\n",
        "    return x\n",
        "df['Plot']=df['Plot'].apply(preprocessing)"
      ],
      "metadata": {
        "id": "kPzP2ltNIoY4"
      },
      "execution_count": 31,
      "outputs": []
    },
    {
      "cell_type": "code",
      "source": [
        "for i in df.columns:\n",
        "    df[i] = df[i].astype(str)\n",
        "    df[i] = df[i].str.lower()"
      ],
      "metadata": {
        "id": "ySguUvfgKfn4"
      },
      "execution_count": 32,
      "outputs": []
    },
    {
      "cell_type": "code",
      "source": [
        "df['Plot'].head()"
      ],
      "metadata": {
        "colab": {
          "base_uri": "https://localhost:8080/"
        },
        "id": "257OvyyfJSgT",
        "outputId": "c8a4a30c-73b0-4d77-a67c-7818bb19e538"
      },
      "execution_count": 33,
      "outputs": [
        {
          "output_type": "execute_result",
          "data": {
            "text/plain": [
              "0    imprison man bond number year , find solace ev...\n",
              "1    age patriarch organize crime dynasty transfer ...\n",
              "2    early life career vito corleone 1920s new york...\n",
              "3    menace know joker emerge mysterious past , wre...\n",
              "4    jury holdout attempt prevent miscarriage justi...\n",
              "Name: Plot, dtype: object"
            ]
          },
          "metadata": {},
          "execution_count": 33
        }
      ]
    },
    {
      "cell_type": "code",
      "source": [
        "df[\"descriptor\"] = \"\"\n",
        "def merger(x):\n",
        "    for i in x.columns:\n",
        "        df[\"descriptor\"] += df[i]+\" \" \n",
        "        \n",
        "    return df[\"descriptor\"]\n",
        "merger(df.drop(\"Title\",axis=1))\n",
        "df.head()"
      ],
      "metadata": {
        "colab": {
          "base_uri": "https://localhost:8080/",
          "height": 795
        },
        "id": "WQs80845JVls",
        "outputId": "24d9eb8e-64b5-4e91-d491-7a216bb26c9c"
      },
      "execution_count": 34,
      "outputs": [
        {
          "output_type": "execute_result",
          "data": {
            "text/plain": [
              "                      Title  Year     Rated                 Genre  \\\n",
              "0  the shawshank redemption  1994         r          crime, drama   \n",
              "1             the godfather  1972         r          crime, drama   \n",
              "2    the godfather: part ii  1974         r          crime, drama   \n",
              "3           the dark knight  2008     pg-13  action, crime, drama   \n",
              "4              12 angry men  1957  approved          crime, drama   \n",
              "\n",
              "               Director                                             Writer  \\\n",
              "0        frank darabont  stephen king short story \"rita hayworth and sh...   \n",
              "1  francis ford coppola  mario puzo screenplay, francis ford coppola sc...   \n",
              "2  francis ford coppola  francis ford coppola screenplay, mario puzo sc...   \n",
              "3     christopher nolan  jonathan nolan screenplay, christopher nolan s...   \n",
              "4          sidney lumet      reginald rose story, reginald rose screenplay   \n",
              "\n",
              "                                              Actors  \\\n",
              "0  tim robbins, morgan freeman, bob gunton, willi...   \n",
              "1  marlon brando, al pacino, james caan, richard ...   \n",
              "2  al pacino, robert duvall, diane keaton, robert...   \n",
              "3  christian bale, heath ledger, aaron eckhart, m...   \n",
              "4  martin balsam, john fiedler, lee j. cobb, e.g....   \n",
              "\n",
              "                                                Plot  \\\n",
              "0  imprison man bond number year , find solace ev...   \n",
              "1  age patriarch organize crime dynasty transfer ...   \n",
              "2  early life career vito corleone 1920s new york...   \n",
              "3  menace know joker emerge mysterious past , wre...   \n",
              "4  jury holdout attempt prevent miscarriage justi...   \n",
              "\n",
              "                                     Language  Country  \\\n",
              "0                                     english      usa   \n",
              "1                     english, italian, latin      usa   \n",
              "2  english, italian, spanish, latin, sicilian      usa   \n",
              "3                           english, mandarin  usa, uk   \n",
              "4                                     english      usa   \n",
              "\n",
              "                                              Awards imdbRating  imdbVotes  \\\n",
              "0  nominated for 7 oscars. another 19 wins & 30 n...        9.3  1,825,626   \n",
              "1    won 3 oscars. another 23 wins & 27 nominations.        9.2  1,243,444   \n",
              "2    won 6 oscars. another 10 wins & 20 nominations.        9.0    856,870   \n",
              "3  won 2 oscars. another 151 wins & 153 nominations.        9.0  1,802,351   \n",
              "4  nominated for 3 oscars. another 16 wins & 8 no...        8.9    494,215   \n",
              "\n",
              "      BoxOffice                       Production  \\\n",
              "0           nan                columbia pictures   \n",
              "1           nan               paramount pictures   \n",
              "2           nan               paramount pictures   \n",
              "3  $533,316,061  warner bros. pictures/legendary   \n",
              "4           nan             criterion collection   \n",
              "\n",
              "                                          descriptor  \n",
              "0  1994 r crime, drama frank darabont stephen kin...  \n",
              "1  1972 r crime, drama francis ford coppola mario...  \n",
              "2  1974 r crime, drama francis ford coppola franc...  \n",
              "3  2008 pg-13 action, crime, drama christopher no...  \n",
              "4  1957 approved crime, drama sidney lumet regina...  "
            ],
            "text/html": [
              "\n",
              "  <div id=\"df-0714c5e8-d22d-4e14-817d-b9397711fc5f\">\n",
              "    <div class=\"colab-df-container\">\n",
              "      <div>\n",
              "<style scoped>\n",
              "    .dataframe tbody tr th:only-of-type {\n",
              "        vertical-align: middle;\n",
              "    }\n",
              "\n",
              "    .dataframe tbody tr th {\n",
              "        vertical-align: top;\n",
              "    }\n",
              "\n",
              "    .dataframe thead th {\n",
              "        text-align: right;\n",
              "    }\n",
              "</style>\n",
              "<table border=\"1\" class=\"dataframe\">\n",
              "  <thead>\n",
              "    <tr style=\"text-align: right;\">\n",
              "      <th></th>\n",
              "      <th>Title</th>\n",
              "      <th>Year</th>\n",
              "      <th>Rated</th>\n",
              "      <th>Genre</th>\n",
              "      <th>Director</th>\n",
              "      <th>Writer</th>\n",
              "      <th>Actors</th>\n",
              "      <th>Plot</th>\n",
              "      <th>Language</th>\n",
              "      <th>Country</th>\n",
              "      <th>Awards</th>\n",
              "      <th>imdbRating</th>\n",
              "      <th>imdbVotes</th>\n",
              "      <th>BoxOffice</th>\n",
              "      <th>Production</th>\n",
              "      <th>descriptor</th>\n",
              "    </tr>\n",
              "  </thead>\n",
              "  <tbody>\n",
              "    <tr>\n",
              "      <th>0</th>\n",
              "      <td>the shawshank redemption</td>\n",
              "      <td>1994</td>\n",
              "      <td>r</td>\n",
              "      <td>crime, drama</td>\n",
              "      <td>frank darabont</td>\n",
              "      <td>stephen king short story \"rita hayworth and sh...</td>\n",
              "      <td>tim robbins, morgan freeman, bob gunton, willi...</td>\n",
              "      <td>imprison man bond number year , find solace ev...</td>\n",
              "      <td>english</td>\n",
              "      <td>usa</td>\n",
              "      <td>nominated for 7 oscars. another 19 wins &amp; 30 n...</td>\n",
              "      <td>9.3</td>\n",
              "      <td>1,825,626</td>\n",
              "      <td>nan</td>\n",
              "      <td>columbia pictures</td>\n",
              "      <td>1994 r crime, drama frank darabont stephen kin...</td>\n",
              "    </tr>\n",
              "    <tr>\n",
              "      <th>1</th>\n",
              "      <td>the godfather</td>\n",
              "      <td>1972</td>\n",
              "      <td>r</td>\n",
              "      <td>crime, drama</td>\n",
              "      <td>francis ford coppola</td>\n",
              "      <td>mario puzo screenplay, francis ford coppola sc...</td>\n",
              "      <td>marlon brando, al pacino, james caan, richard ...</td>\n",
              "      <td>age patriarch organize crime dynasty transfer ...</td>\n",
              "      <td>english, italian, latin</td>\n",
              "      <td>usa</td>\n",
              "      <td>won 3 oscars. another 23 wins &amp; 27 nominations.</td>\n",
              "      <td>9.2</td>\n",
              "      <td>1,243,444</td>\n",
              "      <td>nan</td>\n",
              "      <td>paramount pictures</td>\n",
              "      <td>1972 r crime, drama francis ford coppola mario...</td>\n",
              "    </tr>\n",
              "    <tr>\n",
              "      <th>2</th>\n",
              "      <td>the godfather: part ii</td>\n",
              "      <td>1974</td>\n",
              "      <td>r</td>\n",
              "      <td>crime, drama</td>\n",
              "      <td>francis ford coppola</td>\n",
              "      <td>francis ford coppola screenplay, mario puzo sc...</td>\n",
              "      <td>al pacino, robert duvall, diane keaton, robert...</td>\n",
              "      <td>early life career vito corleone 1920s new york...</td>\n",
              "      <td>english, italian, spanish, latin, sicilian</td>\n",
              "      <td>usa</td>\n",
              "      <td>won 6 oscars. another 10 wins &amp; 20 nominations.</td>\n",
              "      <td>9.0</td>\n",
              "      <td>856,870</td>\n",
              "      <td>nan</td>\n",
              "      <td>paramount pictures</td>\n",
              "      <td>1974 r crime, drama francis ford coppola franc...</td>\n",
              "    </tr>\n",
              "    <tr>\n",
              "      <th>3</th>\n",
              "      <td>the dark knight</td>\n",
              "      <td>2008</td>\n",
              "      <td>pg-13</td>\n",
              "      <td>action, crime, drama</td>\n",
              "      <td>christopher nolan</td>\n",
              "      <td>jonathan nolan screenplay, christopher nolan s...</td>\n",
              "      <td>christian bale, heath ledger, aaron eckhart, m...</td>\n",
              "      <td>menace know joker emerge mysterious past , wre...</td>\n",
              "      <td>english, mandarin</td>\n",
              "      <td>usa, uk</td>\n",
              "      <td>won 2 oscars. another 151 wins &amp; 153 nominations.</td>\n",
              "      <td>9.0</td>\n",
              "      <td>1,802,351</td>\n",
              "      <td>$533,316,061</td>\n",
              "      <td>warner bros. pictures/legendary</td>\n",
              "      <td>2008 pg-13 action, crime, drama christopher no...</td>\n",
              "    </tr>\n",
              "    <tr>\n",
              "      <th>4</th>\n",
              "      <td>12 angry men</td>\n",
              "      <td>1957</td>\n",
              "      <td>approved</td>\n",
              "      <td>crime, drama</td>\n",
              "      <td>sidney lumet</td>\n",
              "      <td>reginald rose story, reginald rose screenplay</td>\n",
              "      <td>martin balsam, john fiedler, lee j. cobb, e.g....</td>\n",
              "      <td>jury holdout attempt prevent miscarriage justi...</td>\n",
              "      <td>english</td>\n",
              "      <td>usa</td>\n",
              "      <td>nominated for 3 oscars. another 16 wins &amp; 8 no...</td>\n",
              "      <td>8.9</td>\n",
              "      <td>494,215</td>\n",
              "      <td>nan</td>\n",
              "      <td>criterion collection</td>\n",
              "      <td>1957 approved crime, drama sidney lumet regina...</td>\n",
              "    </tr>\n",
              "  </tbody>\n",
              "</table>\n",
              "</div>\n",
              "      <button class=\"colab-df-convert\" onclick=\"convertToInteractive('df-0714c5e8-d22d-4e14-817d-b9397711fc5f')\"\n",
              "              title=\"Convert this dataframe to an interactive table.\"\n",
              "              style=\"display:none;\">\n",
              "        \n",
              "  <svg xmlns=\"http://www.w3.org/2000/svg\" height=\"24px\"viewBox=\"0 0 24 24\"\n",
              "       width=\"24px\">\n",
              "    <path d=\"M0 0h24v24H0V0z\" fill=\"none\"/>\n",
              "    <path d=\"M18.56 5.44l.94 2.06.94-2.06 2.06-.94-2.06-.94-.94-2.06-.94 2.06-2.06.94zm-11 1L8.5 8.5l.94-2.06 2.06-.94-2.06-.94L8.5 2.5l-.94 2.06-2.06.94zm10 10l.94 2.06.94-2.06 2.06-.94-2.06-.94-.94-2.06-.94 2.06-2.06.94z\"/><path d=\"M17.41 7.96l-1.37-1.37c-.4-.4-.92-.59-1.43-.59-.52 0-1.04.2-1.43.59L10.3 9.45l-7.72 7.72c-.78.78-.78 2.05 0 2.83L4 21.41c.39.39.9.59 1.41.59.51 0 1.02-.2 1.41-.59l7.78-7.78 2.81-2.81c.8-.78.8-2.07 0-2.86zM5.41 20L4 18.59l7.72-7.72 1.47 1.35L5.41 20z\"/>\n",
              "  </svg>\n",
              "      </button>\n",
              "      \n",
              "  <style>\n",
              "    .colab-df-container {\n",
              "      display:flex;\n",
              "      flex-wrap:wrap;\n",
              "      gap: 12px;\n",
              "    }\n",
              "\n",
              "    .colab-df-convert {\n",
              "      background-color: #E8F0FE;\n",
              "      border: none;\n",
              "      border-radius: 50%;\n",
              "      cursor: pointer;\n",
              "      display: none;\n",
              "      fill: #1967D2;\n",
              "      height: 32px;\n",
              "      padding: 0 0 0 0;\n",
              "      width: 32px;\n",
              "    }\n",
              "\n",
              "    .colab-df-convert:hover {\n",
              "      background-color: #E2EBFA;\n",
              "      box-shadow: 0px 1px 2px rgba(60, 64, 67, 0.3), 0px 1px 3px 1px rgba(60, 64, 67, 0.15);\n",
              "      fill: #174EA6;\n",
              "    }\n",
              "\n",
              "    [theme=dark] .colab-df-convert {\n",
              "      background-color: #3B4455;\n",
              "      fill: #D2E3FC;\n",
              "    }\n",
              "\n",
              "    [theme=dark] .colab-df-convert:hover {\n",
              "      background-color: #434B5C;\n",
              "      box-shadow: 0px 1px 3px 1px rgba(0, 0, 0, 0.15);\n",
              "      filter: drop-shadow(0px 1px 2px rgba(0, 0, 0, 0.3));\n",
              "      fill: #FFFFFF;\n",
              "    }\n",
              "  </style>\n",
              "\n",
              "      <script>\n",
              "        const buttonEl =\n",
              "          document.querySelector('#df-0714c5e8-d22d-4e14-817d-b9397711fc5f button.colab-df-convert');\n",
              "        buttonEl.style.display =\n",
              "          google.colab.kernel.accessAllowed ? 'block' : 'none';\n",
              "\n",
              "        async function convertToInteractive(key) {\n",
              "          const element = document.querySelector('#df-0714c5e8-d22d-4e14-817d-b9397711fc5f');\n",
              "          const dataTable =\n",
              "            await google.colab.kernel.invokeFunction('convertToInteractive',\n",
              "                                                     [key], {});\n",
              "          if (!dataTable) return;\n",
              "\n",
              "          const docLinkHtml = 'Like what you see? Visit the ' +\n",
              "            '<a target=\"_blank\" href=https://colab.research.google.com/notebooks/data_table.ipynb>data table notebook</a>'\n",
              "            + ' to learn more about interactive tables.';\n",
              "          element.innerHTML = '';\n",
              "          dataTable['output_type'] = 'display_data';\n",
              "          await google.colab.output.renderOutput(dataTable, element);\n",
              "          const docLink = document.createElement('div');\n",
              "          docLink.innerHTML = docLinkHtml;\n",
              "          element.appendChild(docLink);\n",
              "        }\n",
              "      </script>\n",
              "    </div>\n",
              "  </div>\n",
              "  "
            ]
          },
          "metadata": {},
          "execution_count": 34
        }
      ]
    },
    {
      "cell_type": "code",
      "source": [
        "df[\"descriptor\"] = df[\"descriptor\"].str.replace(\"nan\",\"\")\n",
        "df[\"descriptor\"] = df[\"descriptor\"].str.replace(\",\",\"\")"
      ],
      "metadata": {
        "id": "zq8sexhyKWnk"
      },
      "execution_count": 35,
      "outputs": []
    },
    {
      "cell_type": "code",
      "source": [
        "x = pd.DataFrame(df.Title)\n",
        "x[\"descriptor\"] = df[\"descriptor\"].astype(str)\n",
        "x.head()"
      ],
      "metadata": {
        "colab": {
          "base_uri": "https://localhost:8080/",
          "height": 204
        },
        "id": "64TgY9qyLp8c",
        "outputId": "0435afbc-b5ed-4e15-cd22-81a49d4df356"
      },
      "execution_count": 36,
      "outputs": [
        {
          "output_type": "execute_result",
          "data": {
            "text/plain": [
              "                      Title                                         descriptor\n",
              "0  the shawshank redemption  1994 r crime drama frank darabont stephen king...\n",
              "1             the godfather  1972 r crime drama francis ford coppola mario ...\n",
              "2    the godfather: part ii  1974 r crime drama francis ford coppola franci...\n",
              "3           the dark knight  2008 pg-13 action crime drama christopher nola...\n",
              "4              12 angry men  1957 approved crime drama sidney lumet reginal..."
            ],
            "text/html": [
              "\n",
              "  <div id=\"df-b5beac44-89f6-4f07-8892-6a5d91bad9b7\">\n",
              "    <div class=\"colab-df-container\">\n",
              "      <div>\n",
              "<style scoped>\n",
              "    .dataframe tbody tr th:only-of-type {\n",
              "        vertical-align: middle;\n",
              "    }\n",
              "\n",
              "    .dataframe tbody tr th {\n",
              "        vertical-align: top;\n",
              "    }\n",
              "\n",
              "    .dataframe thead th {\n",
              "        text-align: right;\n",
              "    }\n",
              "</style>\n",
              "<table border=\"1\" class=\"dataframe\">\n",
              "  <thead>\n",
              "    <tr style=\"text-align: right;\">\n",
              "      <th></th>\n",
              "      <th>Title</th>\n",
              "      <th>descriptor</th>\n",
              "    </tr>\n",
              "  </thead>\n",
              "  <tbody>\n",
              "    <tr>\n",
              "      <th>0</th>\n",
              "      <td>the shawshank redemption</td>\n",
              "      <td>1994 r crime drama frank darabont stephen king...</td>\n",
              "    </tr>\n",
              "    <tr>\n",
              "      <th>1</th>\n",
              "      <td>the godfather</td>\n",
              "      <td>1972 r crime drama francis ford coppola mario ...</td>\n",
              "    </tr>\n",
              "    <tr>\n",
              "      <th>2</th>\n",
              "      <td>the godfather: part ii</td>\n",
              "      <td>1974 r crime drama francis ford coppola franci...</td>\n",
              "    </tr>\n",
              "    <tr>\n",
              "      <th>3</th>\n",
              "      <td>the dark knight</td>\n",
              "      <td>2008 pg-13 action crime drama christopher nola...</td>\n",
              "    </tr>\n",
              "    <tr>\n",
              "      <th>4</th>\n",
              "      <td>12 angry men</td>\n",
              "      <td>1957 approved crime drama sidney lumet reginal...</td>\n",
              "    </tr>\n",
              "  </tbody>\n",
              "</table>\n",
              "</div>\n",
              "      <button class=\"colab-df-convert\" onclick=\"convertToInteractive('df-b5beac44-89f6-4f07-8892-6a5d91bad9b7')\"\n",
              "              title=\"Convert this dataframe to an interactive table.\"\n",
              "              style=\"display:none;\">\n",
              "        \n",
              "  <svg xmlns=\"http://www.w3.org/2000/svg\" height=\"24px\"viewBox=\"0 0 24 24\"\n",
              "       width=\"24px\">\n",
              "    <path d=\"M0 0h24v24H0V0z\" fill=\"none\"/>\n",
              "    <path d=\"M18.56 5.44l.94 2.06.94-2.06 2.06-.94-2.06-.94-.94-2.06-.94 2.06-2.06.94zm-11 1L8.5 8.5l.94-2.06 2.06-.94-2.06-.94L8.5 2.5l-.94 2.06-2.06.94zm10 10l.94 2.06.94-2.06 2.06-.94-2.06-.94-.94-2.06-.94 2.06-2.06.94z\"/><path d=\"M17.41 7.96l-1.37-1.37c-.4-.4-.92-.59-1.43-.59-.52 0-1.04.2-1.43.59L10.3 9.45l-7.72 7.72c-.78.78-.78 2.05 0 2.83L4 21.41c.39.39.9.59 1.41.59.51 0 1.02-.2 1.41-.59l7.78-7.78 2.81-2.81c.8-.78.8-2.07 0-2.86zM5.41 20L4 18.59l7.72-7.72 1.47 1.35L5.41 20z\"/>\n",
              "  </svg>\n",
              "      </button>\n",
              "      \n",
              "  <style>\n",
              "    .colab-df-container {\n",
              "      display:flex;\n",
              "      flex-wrap:wrap;\n",
              "      gap: 12px;\n",
              "    }\n",
              "\n",
              "    .colab-df-convert {\n",
              "      background-color: #E8F0FE;\n",
              "      border: none;\n",
              "      border-radius: 50%;\n",
              "      cursor: pointer;\n",
              "      display: none;\n",
              "      fill: #1967D2;\n",
              "      height: 32px;\n",
              "      padding: 0 0 0 0;\n",
              "      width: 32px;\n",
              "    }\n",
              "\n",
              "    .colab-df-convert:hover {\n",
              "      background-color: #E2EBFA;\n",
              "      box-shadow: 0px 1px 2px rgba(60, 64, 67, 0.3), 0px 1px 3px 1px rgba(60, 64, 67, 0.15);\n",
              "      fill: #174EA6;\n",
              "    }\n",
              "\n",
              "    [theme=dark] .colab-df-convert {\n",
              "      background-color: #3B4455;\n",
              "      fill: #D2E3FC;\n",
              "    }\n",
              "\n",
              "    [theme=dark] .colab-df-convert:hover {\n",
              "      background-color: #434B5C;\n",
              "      box-shadow: 0px 1px 3px 1px rgba(0, 0, 0, 0.15);\n",
              "      filter: drop-shadow(0px 1px 2px rgba(0, 0, 0, 0.3));\n",
              "      fill: #FFFFFF;\n",
              "    }\n",
              "  </style>\n",
              "\n",
              "      <script>\n",
              "        const buttonEl =\n",
              "          document.querySelector('#df-b5beac44-89f6-4f07-8892-6a5d91bad9b7 button.colab-df-convert');\n",
              "        buttonEl.style.display =\n",
              "          google.colab.kernel.accessAllowed ? 'block' : 'none';\n",
              "\n",
              "        async function convertToInteractive(key) {\n",
              "          const element = document.querySelector('#df-b5beac44-89f6-4f07-8892-6a5d91bad9b7');\n",
              "          const dataTable =\n",
              "            await google.colab.kernel.invokeFunction('convertToInteractive',\n",
              "                                                     [key], {});\n",
              "          if (!dataTable) return;\n",
              "\n",
              "          const docLinkHtml = 'Like what you see? Visit the ' +\n",
              "            '<a target=\"_blank\" href=https://colab.research.google.com/notebooks/data_table.ipynb>data table notebook</a>'\n",
              "            + ' to learn more about interactive tables.';\n",
              "          element.innerHTML = '';\n",
              "          dataTable['output_type'] = 'display_data';\n",
              "          await google.colab.output.renderOutput(dataTable, element);\n",
              "          const docLink = document.createElement('div');\n",
              "          docLink.innerHTML = docLinkHtml;\n",
              "          element.appendChild(docLink);\n",
              "        }\n",
              "      </script>\n",
              "    </div>\n",
              "  </div>\n",
              "  "
            ]
          },
          "metadata": {},
          "execution_count": 36
        }
      ]
    },
    {
      "cell_type": "code",
      "source": [
        "x['tokenized_desc'] = x['descriptor'].apply(lambda x:\"\".join(x))"
      ],
      "metadata": {
        "id": "QhXVXB0pLyHW"
      },
      "execution_count": 37,
      "outputs": []
    },
    {
      "cell_type": "code",
      "source": [
        "x.head()"
      ],
      "metadata": {
        "colab": {
          "base_uri": "https://localhost:8080/",
          "height": 299
        },
        "id": "wuMaHQMFL5Lu",
        "outputId": "1c34c1bd-2857-42ac-c54c-625aebdcdecc"
      },
      "execution_count": 38,
      "outputs": [
        {
          "output_type": "execute_result",
          "data": {
            "text/plain": [
              "                      Title  \\\n",
              "0  the shawshank redemption   \n",
              "1             the godfather   \n",
              "2    the godfather: part ii   \n",
              "3           the dark knight   \n",
              "4              12 angry men   \n",
              "\n",
              "                                          descriptor  \\\n",
              "0  1994 r crime drama frank darabont stephen king...   \n",
              "1  1972 r crime drama francis ford coppola mario ...   \n",
              "2  1974 r crime drama francis ford coppola franci...   \n",
              "3  2008 pg-13 action crime drama christopher nola...   \n",
              "4  1957 approved crime drama sidney lumet reginal...   \n",
              "\n",
              "                                      tokenized_desc  \n",
              "0  1994 r crime drama frank darabont stephen king...  \n",
              "1  1972 r crime drama francis ford coppola mario ...  \n",
              "2  1974 r crime drama francis ford coppola franci...  \n",
              "3  2008 pg-13 action crime drama christopher nola...  \n",
              "4  1957 approved crime drama sidney lumet reginal...  "
            ],
            "text/html": [
              "\n",
              "  <div id=\"df-2174f603-d419-4eea-b499-c48efd7014cb\">\n",
              "    <div class=\"colab-df-container\">\n",
              "      <div>\n",
              "<style scoped>\n",
              "    .dataframe tbody tr th:only-of-type {\n",
              "        vertical-align: middle;\n",
              "    }\n",
              "\n",
              "    .dataframe tbody tr th {\n",
              "        vertical-align: top;\n",
              "    }\n",
              "\n",
              "    .dataframe thead th {\n",
              "        text-align: right;\n",
              "    }\n",
              "</style>\n",
              "<table border=\"1\" class=\"dataframe\">\n",
              "  <thead>\n",
              "    <tr style=\"text-align: right;\">\n",
              "      <th></th>\n",
              "      <th>Title</th>\n",
              "      <th>descriptor</th>\n",
              "      <th>tokenized_desc</th>\n",
              "    </tr>\n",
              "  </thead>\n",
              "  <tbody>\n",
              "    <tr>\n",
              "      <th>0</th>\n",
              "      <td>the shawshank redemption</td>\n",
              "      <td>1994 r crime drama frank darabont stephen king...</td>\n",
              "      <td>1994 r crime drama frank darabont stephen king...</td>\n",
              "    </tr>\n",
              "    <tr>\n",
              "      <th>1</th>\n",
              "      <td>the godfather</td>\n",
              "      <td>1972 r crime drama francis ford coppola mario ...</td>\n",
              "      <td>1972 r crime drama francis ford coppola mario ...</td>\n",
              "    </tr>\n",
              "    <tr>\n",
              "      <th>2</th>\n",
              "      <td>the godfather: part ii</td>\n",
              "      <td>1974 r crime drama francis ford coppola franci...</td>\n",
              "      <td>1974 r crime drama francis ford coppola franci...</td>\n",
              "    </tr>\n",
              "    <tr>\n",
              "      <th>3</th>\n",
              "      <td>the dark knight</td>\n",
              "      <td>2008 pg-13 action crime drama christopher nola...</td>\n",
              "      <td>2008 pg-13 action crime drama christopher nola...</td>\n",
              "    </tr>\n",
              "    <tr>\n",
              "      <th>4</th>\n",
              "      <td>12 angry men</td>\n",
              "      <td>1957 approved crime drama sidney lumet reginal...</td>\n",
              "      <td>1957 approved crime drama sidney lumet reginal...</td>\n",
              "    </tr>\n",
              "  </tbody>\n",
              "</table>\n",
              "</div>\n",
              "      <button class=\"colab-df-convert\" onclick=\"convertToInteractive('df-2174f603-d419-4eea-b499-c48efd7014cb')\"\n",
              "              title=\"Convert this dataframe to an interactive table.\"\n",
              "              style=\"display:none;\">\n",
              "        \n",
              "  <svg xmlns=\"http://www.w3.org/2000/svg\" height=\"24px\"viewBox=\"0 0 24 24\"\n",
              "       width=\"24px\">\n",
              "    <path d=\"M0 0h24v24H0V0z\" fill=\"none\"/>\n",
              "    <path d=\"M18.56 5.44l.94 2.06.94-2.06 2.06-.94-2.06-.94-.94-2.06-.94 2.06-2.06.94zm-11 1L8.5 8.5l.94-2.06 2.06-.94-2.06-.94L8.5 2.5l-.94 2.06-2.06.94zm10 10l.94 2.06.94-2.06 2.06-.94-2.06-.94-.94-2.06-.94 2.06-2.06.94z\"/><path d=\"M17.41 7.96l-1.37-1.37c-.4-.4-.92-.59-1.43-.59-.52 0-1.04.2-1.43.59L10.3 9.45l-7.72 7.72c-.78.78-.78 2.05 0 2.83L4 21.41c.39.39.9.59 1.41.59.51 0 1.02-.2 1.41-.59l7.78-7.78 2.81-2.81c.8-.78.8-2.07 0-2.86zM5.41 20L4 18.59l7.72-7.72 1.47 1.35L5.41 20z\"/>\n",
              "  </svg>\n",
              "      </button>\n",
              "      \n",
              "  <style>\n",
              "    .colab-df-container {\n",
              "      display:flex;\n",
              "      flex-wrap:wrap;\n",
              "      gap: 12px;\n",
              "    }\n",
              "\n",
              "    .colab-df-convert {\n",
              "      background-color: #E8F0FE;\n",
              "      border: none;\n",
              "      border-radius: 50%;\n",
              "      cursor: pointer;\n",
              "      display: none;\n",
              "      fill: #1967D2;\n",
              "      height: 32px;\n",
              "      padding: 0 0 0 0;\n",
              "      width: 32px;\n",
              "    }\n",
              "\n",
              "    .colab-df-convert:hover {\n",
              "      background-color: #E2EBFA;\n",
              "      box-shadow: 0px 1px 2px rgba(60, 64, 67, 0.3), 0px 1px 3px 1px rgba(60, 64, 67, 0.15);\n",
              "      fill: #174EA6;\n",
              "    }\n",
              "\n",
              "    [theme=dark] .colab-df-convert {\n",
              "      background-color: #3B4455;\n",
              "      fill: #D2E3FC;\n",
              "    }\n",
              "\n",
              "    [theme=dark] .colab-df-convert:hover {\n",
              "      background-color: #434B5C;\n",
              "      box-shadow: 0px 1px 3px 1px rgba(0, 0, 0, 0.15);\n",
              "      filter: drop-shadow(0px 1px 2px rgba(0, 0, 0, 0.3));\n",
              "      fill: #FFFFFF;\n",
              "    }\n",
              "  </style>\n",
              "\n",
              "      <script>\n",
              "        const buttonEl =\n",
              "          document.querySelector('#df-2174f603-d419-4eea-b499-c48efd7014cb button.colab-df-convert');\n",
              "        buttonEl.style.display =\n",
              "          google.colab.kernel.accessAllowed ? 'block' : 'none';\n",
              "\n",
              "        async function convertToInteractive(key) {\n",
              "          const element = document.querySelector('#df-2174f603-d419-4eea-b499-c48efd7014cb');\n",
              "          const dataTable =\n",
              "            await google.colab.kernel.invokeFunction('convertToInteractive',\n",
              "                                                     [key], {});\n",
              "          if (!dataTable) return;\n",
              "\n",
              "          const docLinkHtml = 'Like what you see? Visit the ' +\n",
              "            '<a target=\"_blank\" href=https://colab.research.google.com/notebooks/data_table.ipynb>data table notebook</a>'\n",
              "            + ' to learn more about interactive tables.';\n",
              "          element.innerHTML = '';\n",
              "          dataTable['output_type'] = 'display_data';\n",
              "          await google.colab.output.renderOutput(dataTable, element);\n",
              "          const docLink = document.createElement('div');\n",
              "          docLink.innerHTML = docLinkHtml;\n",
              "          element.appendChild(docLink);\n",
              "        }\n",
              "      </script>\n",
              "    </div>\n",
              "  </div>\n",
              "  "
            ]
          },
          "metadata": {},
          "execution_count": 38
        }
      ]
    },
    {
      "cell_type": "code",
      "source": [
        "vectorizer = TfidfVectorizer()\n",
        "matrix = vectorizer.fit_transform(x[\"descriptor\"])\n",
        "matrix"
      ],
      "metadata": {
        "colab": {
          "base_uri": "https://localhost:8080/"
        },
        "id": "QgKs-zvyL7sB",
        "outputId": "5516d14d-b09b-4d8d-a991-bb4a84dd5551"
      },
      "execution_count": 40,
      "outputs": [
        {
          "output_type": "execute_result",
          "data": {
            "text/plain": [
              "<250x4368 sparse matrix of type '<class 'numpy.float64'>'\n",
              "\twith 12236 stored elements in Compressed Sparse Row format>"
            ]
          },
          "metadata": {},
          "execution_count": 40
        }
      ]
    },
    {
      "cell_type": "code",
      "source": [
        "similarity_matrix = cosine_similarity(matrix)"
      ],
      "metadata": {
        "id": "xyP3tk2XNC6R"
      },
      "execution_count": 41,
      "outputs": []
    },
    {
      "cell_type": "code",
      "source": [
        "def index_title(user_movie):\n",
        "    movie_index =  x[x[\"Title\"] == user_movie][\"Title\"].index[0]\n",
        "    movies_list = sorted(list(enumerate(similarity_matrix[movie_index])), key=lambda x:x[1], reverse=True)[1:7]\n",
        "    Recommendations = []\n",
        "\n",
        "    for movie in movies_list:\n",
        "        Recommendations.append(x.iloc[movie[0]].Title)\n",
        "    return Recommendations\n",
        "\n",
        "index_title(\"the shawshank redemption\")"
      ],
      "metadata": {
        "colab": {
          "base_uri": "https://localhost:8080/"
        },
        "id": "4-oeAwJrNS9x",
        "outputId": "7e188d4b-6024-4669-b51d-937a3fd2263e"
      },
      "execution_count": 54,
      "outputs": [
        {
          "output_type": "stream",
          "name": "stdout",
          "text": [
            "[(29, 0.2657714093852725), (7, 0.1014422889488219), (238, 0.0814830667835682), (31, 0.07859396835712364), (127, 0.07816337146487683), (184, 0.07601938860918635)]\n"
          ]
        },
        {
          "output_type": "execute_result",
          "data": {
            "text/plain": [
              "['the green mile',\n",
              " 'pulp fiction',\n",
              " 'the nightmare before christmas',\n",
              " 'raiders of the lost ark',\n",
              " 'it happened one night',\n",
              " 'the wizard of oz']"
            ]
          },
          "metadata": {},
          "execution_count": 54
        }
      ]
    },
    {
      "cell_type": "code",
      "source": [
        "index_title(\"forrest gump\")"
      ],
      "metadata": {
        "colab": {
          "base_uri": "https://localhost:8080/"
        },
        "id": "htd5zsI4NYZU",
        "outputId": "8e15a6d6-84bc-4094-ab15-83abbb6f438f"
      },
      "execution_count": 47,
      "outputs": [
        {
          "output_type": "execute_result",
          "data": {
            "text/plain": [
              "['back to the future',\n",
              " 'saving private ryan',\n",
              " 'the truman show',\n",
              " 'dead poets society',\n",
              " 'catch me if you can',\n",
              " 'vertigo']"
            ]
          },
          "metadata": {},
          "execution_count": 47
        }
      ]
    },
    {
      "cell_type": "code",
      "source": [
        "index_title(\"toy story 3\")"
      ],
      "metadata": {
        "colab": {
          "base_uri": "https://localhost:8080/"
        },
        "id": "XGM_coXlN3hc",
        "outputId": "a4741863-bc83-4510-eca5-4068231ca645"
      },
      "execution_count": 48,
      "outputs": [
        {
          "output_type": "execute_result",
          "data": {
            "text/plain": [
              "['toy story',\n",
              " 'finding nemo',\n",
              " 'wall·e',\n",
              " 'zootopia',\n",
              " 'monsters, inc.',\n",
              " 'aladdin']"
            ]
          },
          "metadata": {},
          "execution_count": 48
        }
      ]
    },
    {
      "cell_type": "code",
      "source": [
        "index_title(\"star wars: the force awakens\")"
      ],
      "metadata": {
        "colab": {
          "base_uri": "https://localhost:8080/"
        },
        "id": "_eQr-B_UOEX3",
        "outputId": "302a7bed-c41e-4c8d-e04b-77239b6cc26f"
      },
      "execution_count": 52,
      "outputs": [
        {
          "output_type": "execute_result",
          "data": {
            "text/plain": [
              "['star wars: episode v - the empire strikes back',\n",
              " 'star wars: episode iv - a new hope',\n",
              " 'star wars: episode vi - return of the jedi',\n",
              " 'guardians of the galaxy vol. 2',\n",
              " 'raiders of the lost ark',\n",
              " 'indiana jones and the last crusade']"
            ]
          },
          "metadata": {},
          "execution_count": 52
        }
      ]
    },
    {
      "cell_type": "code",
      "source": [],
      "metadata": {
        "id": "21qxvYTOORBw"
      },
      "execution_count": null,
      "outputs": []
    }
  ]
}